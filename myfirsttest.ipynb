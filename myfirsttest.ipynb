{
 "cells": [
  {
   "cell_type": "code",
   "execution_count": 1,
   "metadata": {},
   "outputs": [
    {
     "name": "stdout",
     "output_type": "stream",
     "text": [
      "README FILE FOR DAILY GLOBAL HISTORICAL CLIMATOLOGY NETWORK (GHCN-DAILY) \n",
      "Version 3.26\n",
      "\n",
      "--------------------------------------------------------------------------------\n",
      "How to cite:\n",
      "\n",
      "Note that the GHCN-Daily dataset itself now has a DOI (Digital Object Identifier)\n",
      "so it may be relevant to cite both the methods/overview journal article as well \n",
      "as the specific version of the dataset used.\n",
      "\n",
      "The journal article describing GHCN-Daily is:\n",
      "Menne, M.J., I. Durre, R.S. Vose, B.E. Gleason, and T.G. Houston, 2012:  An overview \n",
      "of the Global Historical Climatology Network-Daily Database.  Journal of Atmospheric \n",
      "and Oceanic Technology, 29, 897-910, doi:10.1175/JTECH-D-11-00103.1.\n",
      "\n",
      "To acknowledge the specific version of the dataset used, please cite:\n",
      "Menne, M.J., I. Durre, B. Korzeniewski, S. McNeal, K. Thomas, X. Yin, S. Anthony, R. Ray, \n",
      "R.S. Vose, B.E.Gleason, and T.G. Houston, 2012: Global Historical Climatology Network - \n",
      "Daily (GHCN-Daily), Version 3. [indicate subset used following decimal, \n",
      "e.g. Version 3.12]. \n",
      "NOAA National Climatic Data Center. http://doi.org/10.7289/V5D21VHZ [access date].\n",
      "--------------------------------------------------------------------------------\n",
      "\n",
      "I. DOWNLOAD QUICK START\n",
      "\n",
      "Start by downloading \"ghcnd-stations.txt,\" which has metadata for all stations.\n",
      "\n",
      "Then download one of the following TAR files:\n",
      "\n",
      "  - \"ghcnd-all.tar.gz\" if you want all of GHCN-Daily, OR\n",
      "  - \"ghcnd-gsn.tar.gz\" if you only want the GCOS Surface Network (GSN), OR\n",
      "  - \"ghcnd-hcn.tar.gz\" if you only want the U.S. Historical Climatology Network \n",
      "    (U.S. HCN).\n",
      "\n",
      "Then uncompress and untar the contents of the tar file, \n",
      "e.g., by using the following Linux command:\n",
      "\n",
      "tar xzvf ghcnd_xxx.tar.gz\n",
      "\n",
      "Where \"xxx\" stands for \"all\", \"hcn\", or \"gsn\" as applicable. The files will be \n",
      "extracted into a subdirectory under the directory where the command is issued.\n",
      "\n",
      "ALTERNATIVELY, if you only need data for one station:\n",
      "\n",
      "  - Find the station's name in \"ghcnd-stations.txt\" and note its station\n",
      "    identification code (e.g., PHOENIX AP (Airport) is \"USW00023183\"); and\n",
      "  - Download the data file (i.e., \".dly\" file) that corresponds to this code\n",
      "    (e.g., \"USW00023183.dly\" has the data for PHOENIX AP).  \n",
      "    Note that the \".dly\" file is located in the \"all\" subdirectory.\n",
      "\n",
      "--------------------------------------------------------------------------------\n",
      "--------------------------------------------------------------------------------\n",
      "\n",
      "II. CONTENTS OF ftp://ftp.ncdc.noaa.gov/pub/data/ghcn/daily\n",
      "\n",
      "all:                  Directory with \".dly\" files for all of GHCN-Daily\n",
      "gsn:                  Directory with \".dly\" files for the GCOS Surface Network \n",
      "                      (GSN)\n",
      "hcn:                  Directory with \".dly\" files for U.S. HCN\n",
      "by_year:              Directory with GHCN Daily files parsed into yearly\n",
      "                      subsets with observation times where available.  See the\n",
      "\t\t      /by_year/readme.txt and \n",
      "\t\t      /by_year/ghcn-daily-by_year-format.rtf \n",
      "\t\t      files for further details\n",
      "grid:\t              Directory with the GHCN-Daily gridded dataset known \n",
      "                      as HadGHCND\n",
      "papers:\t\t      Directory with pdf versions of journal articles relevant \n",
      "                      to the GHCN-Daily dataset\n",
      "figures:\t      Directory containing figures that summarize the inventory \n",
      "                      and processing of GHCN-Daily station records\n",
      "superghcnd:\t      Directory containing a comma delimited format of GHCN-Daily\n",
      "                      with station metadata integrated into the data.  Two files \n",
      "\t\t      are provided each day.  The superghcnd_full file contains\n",
      "\t\t      all GHCN-Daily data in comma delimited format and the \n",
      "\t\t      superghcnd_diff file which contains the differences in\n",
      "\t\t      the dataset between two successive update runs.  See\n",
      "\t\t      the readme.txt file in the superghcnd directory for more\n",
      "\t\t      details.\n",
      "\n",
      "ghcnd-all.tar.gz:  TAR file of the GZIP-compressed files in the \"all\" directory\n",
      "ghcnd-gsn.tar.gz:  TAR file of the GZIP-compressed \"gsn\" directory\n",
      "ghcnd-hcn.tar.gz:  TAR file of the GZIP-compressed \"hcn\" directory\n",
      "\n",
      "ghcnd-countries.txt:  List of country codes (FIPS) and names\n",
      "ghcnd-inventory.txt:  File listing the periods of record for each station and \n",
      "                      element\n",
      "ghcnd-stations.txt:   List of stations and their metadata (e.g., coordinates)\n",
      "ghcnd-states.txt:     List of U.S. state and Canadian Province codes \n",
      "                      used in ghcnd-stations.txt\n",
      "ghcnd-version.txt:    File that specifies the current version of GHCN Daily\n",
      "mingle-list.txt:      File that provides a list of each source and source identifiers\n",
      "  \t              associated with each GHCN-Daily station.\n",
      "\n",
      "readme.txt:           This file\n",
      "status.txt:           Notes on the current status of GHCN-Daily\n",
      "\n",
      "--------------------------------------------------------------------------------\n",
      "--------------------------------------------------------------------------------\n",
      "\n",
      "III. FORMAT OF DATA FILES (\".dly\" FILES)\n",
      "\n",
      "Each \".dly\" file contains data for one station.  The name of the file\n",
      "corresponds to a station's identification code.  For example, \"USC00026481.dly\"\n",
      "contains the data for the station with the identification code USC00026481).\n",
      "\n",
      "Each record in a file contains one month of daily data.  The variables on each\n",
      "line include the following:\n",
      "\n",
      "------------------------------\n",
      "Variable   Columns   Type\n",
      "------------------------------\n",
      "ID            1-11   Character\n",
      "YEAR         12-15   Integer\n",
      "MONTH        16-17   Integer\n",
      "ELEMENT      18-21   Character\n",
      "VALUE1       22-26   Integer\n",
      "MFLAG1       27-27   Character\n",
      "QFLAG1       28-28   Character\n",
      "SFLAG1       29-29   Character\n",
      "VALUE2       30-34   Integer\n",
      "MFLAG2       35-35   Character\n",
      "QFLAG2       36-36   Character\n",
      "SFLAG2       37-37   Character\n",
      "  .           .          .\n",
      "  .           .          .\n",
      "  .           .          .\n",
      "VALUE31    262-266   Integer\n",
      "MFLAG31    267-267   Character\n",
      "QFLAG31    268-268   Character\n",
      "SFLAG31    269-269   Character\n",
      "------------------------------\n",
      "\n",
      "These variables have the following definitions:\n",
      "\n",
      "ID         is the station identification code.  Please see \"ghcnd-stations.txt\"\n",
      "           for a complete list of stations and their metadata.\n",
      "YEAR       is the year of the record.\n",
      "\n",
      "MONTH      is the month of the record.\n",
      "\n",
      "ELEMENT    is the element type.   There are five core elements as well as a number\n",
      "           of addition elements.  \n",
      "\t   \n",
      "\t   The five core elements are:\n",
      "\n",
      "           PRCP = Precipitation (tenths of mm)\n",
      "   \t   SNOW = Snowfall (mm)\n",
      "\t   SNWD = Snow depth (mm)\n",
      "           TMAX = Maximum temperature (tenths of degrees C)\n",
      "           TMIN = Minimum temperature (tenths of degrees C)\n",
      "\t   \n",
      "\t   The other elements are:\n",
      "\t   \n",
      "\t   ACMC = Average cloudiness midnight to midnight from 30-second \n",
      "\t          ceilometer data (percent)\n",
      "\t   ACMH = Average cloudiness midnight to midnight from \n",
      "\t          manual observations (percent)\n",
      "           ACSC = Average cloudiness sunrise to sunset from 30-second \n",
      "\t          ceilometer data (percent)\n",
      "\t   ACSH = Average cloudiness sunrise to sunset from manual \n",
      "\t          observations (percent)\n",
      "           AWDR = Average daily wind direction (degrees)\n",
      "\t   AWND = Average daily wind speed (tenths of meters per second)\n",
      "\t   DAEV = Number of days included in the multiday evaporation\n",
      "\t          total (MDEV)\n",
      "\t   DAPR = Number of days included in the multiday precipiation \n",
      "\t          total (MDPR)\n",
      "           DASF = Number of days included in the multiday snowfall \n",
      "\t          total (MDSF)\t\t  \n",
      "\t   DATN = Number of days included in the multiday minimum temperature \n",
      "\t         (MDTN)\n",
      "\t   DATX = Number of days included in the multiday maximum temperature \n",
      "\t          (MDTX)\n",
      "           DAWM = Number of days included in the multiday wind movement\n",
      "\t          (MDWM)\n",
      "\t   DWPR = Number of days with non-zero precipitation included in \n",
      "\t          multiday precipitation total (MDPR)\n",
      "\t   EVAP = Evaporation of water from evaporation pan (tenths of mm)\n",
      "\t   FMTM = Time of fastest mile or fastest 1-minute wind \n",
      "\t          (hours and minutes, i.e., HHMM)\n",
      "\t   FRGB = Base of frozen ground layer (cm)\n",
      "\t   FRGT = Top of frozen ground layer (cm)\n",
      "\t   FRTH = Thickness of frozen ground layer (cm)\n",
      "\t   GAHT = Difference between river and gauge height (cm)\n",
      "\t   MDEV = Multiday evaporation total (tenths of mm; use with DAEV)\n",
      "\t   MDPR = Multiday precipitation total (tenths of mm; use with DAPR and \n",
      "\t          DWPR, if available)\n",
      "\t   MDSF = Multiday snowfall total \n",
      "\t   MDTN = Multiday minimum temperature (tenths of degrees C; use with \n",
      "\t          DATN)\n",
      "\t   MDTX = Multiday maximum temperature (tenths of degress C; use with \n",
      "\t          DATX)\n",
      "\t   MDWM = Multiday wind movement (km)\n",
      "           MNPN = Daily minimum temperature of water in an evaporation pan \n",
      "\t         (tenths of degrees C)\n",
      "           MXPN = Daily maximum temperature of water in an evaporation pan \n",
      "\t         (tenths of degrees C)\n",
      "\t   PGTM = Peak gust time (hours and minutes, i.e., HHMM)\n",
      "\t   PSUN = Daily percent of possible sunshine (percent)\n",
      "\t   SN*# = Minimum soil temperature (tenths of degrees C)\n",
      "\t          where * corresponds to a code\n",
      "\t          for ground cover and # corresponds to a code for soil \n",
      "\t\t  depth.  \n",
      "\t\t  \n",
      "\t\t  Ground cover codes include the following:\n",
      "\t\t  0 = unknown\n",
      "\t\t  1 = grass\n",
      "\t\t  2 = fallow\n",
      "\t\t  3 = bare ground\n",
      "\t\t  4 = brome grass\n",
      "\t\t  5 = sod\n",
      "\t\t  6 = straw multch\n",
      "\t\t  7 = grass muck\n",
      "\t\t  8 = bare muck\n",
      "\t\t  \n",
      "\t\t  Depth codes include the following:\n",
      "\t\t  1 = 5 cm\n",
      "\t\t  2 = 10 cm\n",
      "\t\t  3 = 20 cm\n",
      "\t\t  4 = 50 cm\n",
      "\t\t  5 = 100 cm\n",
      "\t\t  6 = 150 cm\n",
      "\t\t  7 = 180 cm\n",
      "\t\t  \n",
      "\t   SX*# = Maximum soil temperature (tenths of degrees C) \n",
      "\t          where * corresponds to a code for ground cover \n",
      "\t\t  and # corresponds to a code for soil depth. \n",
      "\t\t  See SN*# for ground cover and depth codes. \n",
      "           TAVG = Average temperature (tenths of degrees C)\n",
      "\t          [Note that TAVG from source 'S' corresponds\n",
      "\t\t   to an average for the period ending at\n",
      "\t\t   2400 UTC rather than local midnight]\n",
      "           THIC = Thickness of ice on water (tenths of mm)\t\n",
      " \t   TOBS = Temperature at the time of observation (tenths of degrees C)\n",
      "\t   TSUN = Daily total sunshine (minutes)\n",
      "\t   WDF1 = Direction of fastest 1-minute wind (degrees)\n",
      "\t   WDF2 = Direction of fastest 2-minute wind (degrees)\n",
      "\t   WDF5 = Direction of fastest 5-second wind (degrees)\n",
      "\t   WDFG = Direction of peak wind gust (degrees)\n",
      "\t   WDFI = Direction of highest instantaneous wind (degrees)\n",
      "\t   WDFM = Fastest mile wind direction (degrees)\n",
      "           WDMV = 24-hour wind movement (km)\t   \n",
      "           WESD = Water equivalent of snow on the ground (tenths of mm)\n",
      "\t   WESF = Water equivalent of snowfall (tenths of mm)\n",
      "\t   WSF1 = Fastest 1-minute wind speed (tenths of meters per second)\n",
      "\t   WSF2 = Fastest 2-minute wind speed (tenths of meters per second)\n",
      "\t   WSF5 = Fastest 5-second wind speed (tenths of meters per second)\n",
      "\t   WSFG = Peak gust wind speed (tenths of meters per second)\n",
      "\t   WSFI = Highest instantaneous wind speed (tenths of meters per second)\n",
      "\t   WSFM = Fastest mile wind speed (tenths of meters per second)\n",
      "\t   WT** = Weather Type where ** has one of the following values:\n",
      "\t   \n",
      "                  01 = Fog, ice fog, or freezing fog (may include heavy fog)\n",
      "                  02 = Heavy fog or heaving freezing fog (not always \n",
      "\t\t       distinquished from fog)\n",
      "                  03 = Thunder\n",
      "                  04 = Ice pellets, sleet, snow pellets, or small hail \n",
      "                  05 = Hail (may include small hail)\n",
      "                  06 = Glaze or rime \n",
      "                  07 = Dust, volcanic ash, blowing dust, blowing sand, or \n",
      "\t\t       blowing obstruction\n",
      "                  08 = Smoke or haze \n",
      "                  09 = Blowing or drifting snow\n",
      "                  10 = Tornado, waterspout, or funnel cloud \n",
      "                  11 = High or damaging winds\n",
      "                  12 = Blowing spray\n",
      "                  13 = Mist\n",
      "                  14 = Drizzle\n",
      "                  15 = Freezing drizzle \n",
      "                  16 = Rain (may include freezing rain, drizzle, and\n",
      "\t\t       freezing drizzle) \n",
      "                  17 = Freezing rain \n",
      "                  18 = Snow, snow pellets, snow grains, or ice crystals\n",
      "                  19 = Unknown source of precipitation \n",
      "                  21 = Ground fog \n",
      "                  22 = Ice fog or freezing fog\n",
      "\t\t  \n",
      "            WV** = Weather in the Vicinity where ** has one of the following \n",
      "\t           values:\n",
      "\t\t   \n",
      "\t\t   01 = Fog, ice fog, or freezing fog (may include heavy fog)\n",
      "\t\t   03 = Thunder\n",
      "\t\t   07 = Ash, dust, sand, or other blowing obstruction\n",
      "\t\t   18 = Snow or ice crystals\n",
      "\t\t   20 = Rain or snow shower\n",
      "\t\t   \n",
      "VALUE1     is the value on the first day of the month (missing = -9999).\n",
      "\n",
      "MFLAG1     is the measurement flag for the first day of the month.  There are\n",
      "           ten possible values:\n",
      "\n",
      "           Blank = no measurement information applicable\n",
      "           B     = precipitation total formed from two 12-hour totals\n",
      "           D     = precipitation total formed from four six-hour totals\n",
      "\t   H     = represents highest or lowest hourly temperature (TMAX or TMIN) \n",
      "\t           or the average of hourly values (TAVG)\n",
      "\t   K     = converted from knots \n",
      "\t   L     = temperature appears to be lagged with respect to reported\n",
      "\t           hour of observation \n",
      "           O     = converted from oktas \n",
      "\t   P     = identified as \"missing presumed zero\" in DSI 3200 and 3206\n",
      "           T     = trace of precipitation, snowfall, or snow depth\n",
      "\t   W     = converted from 16-point WBAN code (for wind direction)\n",
      "\n",
      "QFLAG1     is the quality flag for the first day of the month.  There are \n",
      "           fourteen possible values:\n",
      "\n",
      "           Blank = did not fail any quality assurance check\n",
      "           D     = failed duplicate check\n",
      "           G     = failed gap check\n",
      "           I     = failed internal consistency check\n",
      "           K     = failed streak/frequent-value check\n",
      "\t   L     = failed check on length of multiday period \n",
      "           M     = failed megaconsistency check\n",
      "           N     = failed naught check\n",
      "           O     = failed climatological outlier check\n",
      "           R     = failed lagged range check\n",
      "           S     = failed spatial consistency check\n",
      "           T     = failed temporal consistency check\n",
      "           W     = temperature too warm for snow\n",
      "           X     = failed bounds check\n",
      "\t   Z     = flagged as a result of an official Datzilla \n",
      "\t           investigation\n",
      "\n",
      "SFLAG1     is the source flag for the first day of the month.  There are \n",
      "           thirty possible values (including blank, upper and \n",
      "\t   lower case letters):\n",
      "\n",
      "           Blank = No source (i.e., data value missing)\n",
      "           0     = U.S. Cooperative Summary of the Day (NCDC DSI-3200)\n",
      "           6     = CDMP Cooperative Summary of the Day (NCDC DSI-3206)\n",
      "           7     = U.S. Cooperative Summary of the Day -- Transmitted \n",
      "\t           via WxCoder3 (NCDC DSI-3207)\n",
      "           A     = U.S. Automated Surface Observing System (ASOS) \n",
      "                   real-time data (since January 1, 2006)\n",
      "\t   a     = Australian data from the Australian Bureau of Meteorology\n",
      "           B     = U.S. ASOS data for October 2000-December 2005 (NCDC \n",
      "                   DSI-3211)\n",
      "\t   b     = Belarus update\n",
      "\t   C     = Environment Canada\n",
      "\t   D     = Short time delay US National Weather Service CF6 daily \n",
      "\t           summaries provided by the High Plains Regional Climate\n",
      "\t\t   Center\n",
      "\t   E     = European Climate Assessment and Dataset (Klein Tank \n",
      "\t           et al., 2002)\t   \n",
      "           F     = U.S. Fort data \n",
      "           G     = Official Global Climate Observing System (GCOS) or \n",
      "                   other government-supplied data\n",
      "           H     = High Plains Regional Climate Center real-time data\n",
      "           I     = International collection (non U.S. data received through\n",
      "\t           personal contacts)\n",
      "           K     = U.S. Cooperative Summary of the Day data digitized from\n",
      "\t           paper observer forms (from 2011 to present)\n",
      "           M     = Monthly METAR Extract (additional ASOS data)\n",
      "\t   m     = Data from the Mexican National Water Commission (Comision\n",
      "\t           National del Agua -- CONAGUA)\n",
      "\t   N     = Community Collaborative Rain, Hail,and Snow (CoCoRaHS)\n",
      "\t   Q     = Data from several African countries that had been \n",
      "\t           \"quarantined\", that is, withheld from public release\n",
      "\t\t   until permission was granted from the respective \n",
      "\t           meteorological services\n",
      "           R     = NCEI Reference Network Database (Climate Reference Network\n",
      "\t           and Regional Climate Reference Network)\n",
      "\t   r     = All-Russian Research Institute of Hydrometeorological \n",
      "\t           Information-World Data Center\n",
      "           S     = Global Summary of the Day (NCDC DSI-9618)\n",
      "                   NOTE: \"S\" values are derived from hourly synoptic reports\n",
      "                   exchanged on the Global Telecommunications System (GTS).\n",
      "                   Daily values derived in this fashion may differ significantly\n",
      "                   from \"true\" daily data, particularly for precipitation\n",
      "                   (i.e., use with caution).\n",
      "\t   s     = China Meteorological Administration/National Meteorological Information Center/\n",
      "\t           Climatic Data Center (http://cdc.cma.gov.cn)\n",
      "           T     = SNOwpack TELemtry (SNOTEL) data obtained from the U.S. \n",
      "\t           Department of Agriculture's Natural Resources Conservation Service\n",
      "\t   U     = Remote Automatic Weather Station (RAWS) data obtained\n",
      "\t           from the Western Regional Climate Center\t   \n",
      "\t   u     = Ukraine update\t   \n",
      "\t   W     = WBAN/ASOS Summary of the Day from NCDC's Integrated \n",
      "\t           Surface Data (ISD).  \n",
      "           X     = U.S. First-Order Summary of the Day (NCDC DSI-3210)\n",
      "\t   Z     = Datzilla official additions or replacements \n",
      "\t   z     = Uzbekistan update\n",
      "\t   \n",
      "\t   When data are available for the same time from more than one source,\n",
      "\t   the highest priority source is chosen according to the following\n",
      "\t   priority order (from highest to lowest):\n",
      "\t   Z,R,D,0,6,C,X,W,K,7,F,B,M,m,r,E,z,u,b,s,a,G,Q,I,A,N,T,U,H,S\n",
      "\t   \n",
      "\t   \n",
      "VALUE2     is the value on the second day of the month\n",
      "\n",
      "MFLAG2     is the measurement flag for the second day of the month.\n",
      "\n",
      "QFLAG2     is the quality flag for the second day of the month.\n",
      "\n",
      "SFLAG2     is the source flag for the second day of the month.\n",
      "\n",
      "... and so on through the 31st day of the month.  Note: If the month has less \n",
      "than 31 days, then the remaining variables are set to missing (e.g., for April, \n",
      "VALUE31 = -9999, MFLAG31 = blank, QFLAG31 = blank, SFLAG31 = blank).\n",
      "\n",
      "--------------------------------------------------------------------------------\n",
      "--------------------------------------------------------------------------------\n",
      "\n",
      "IV. FORMAT OF \"ghcnd-stations.txt\"\n",
      "\n",
      "------------------------------\n",
      "Variable   Columns   Type\n",
      "------------------------------\n",
      "ID            1-11   Character\n",
      "LATITUDE     13-20   Real\n",
      "LONGITUDE    22-30   Real\n",
      "ELEVATION    32-37   Real\n",
      "STATE        39-40   Character\n",
      "NAME         42-71   Character\n",
      "GSN FLAG     73-75   Character\n",
      "HCN/CRN FLAG 77-79   Character\n",
      "WMO ID       81-85   Character\n",
      "------------------------------\n",
      "\n",
      "These variables have the following definitions:\n",
      "\n",
      "ID         is the station identification code.  Note that the first two\n",
      "           characters denote the FIPS  country code, the third character \n",
      "           is a network code that identifies the station numbering system \n",
      "           used, and the remaining eight characters contain the actual \n",
      "           station ID. \n",
      "\n",
      "           See \"ghcnd-countries.txt\" for a complete list of country codes.\n",
      "\t   See \"ghcnd-states.txt\" for a list of state/province/territory codes.\n",
      "\n",
      "           The network code  has the following five values:\n",
      "\n",
      "           0 = unspecified (station identified by up to eight \n",
      "\t       alphanumeric characters)\n",
      "\t   1 = Community Collaborative Rain, Hail,and Snow (CoCoRaHS)\n",
      "\t       based identification number.  To ensure consistency with\n",
      "\t       with GHCN Daily, all numbers in the original CoCoRaHS IDs\n",
      "\t       have been left-filled to make them all four digits long. \n",
      "\t       In addition, the characters \"-\" and \"_\" have been removed \n",
      "\t       to ensure that the IDs do not exceed 11 characters when \n",
      "\t       preceded by \"US1\". For example, the CoCoRaHS ID \n",
      "\t       \"AZ-MR-156\" becomes \"US1AZMR0156\" in GHCN-Daily\n",
      "           C = U.S. Cooperative Network identification number (last six \n",
      "               characters of the GHCN-Daily ID)\n",
      "\t   E = Identification number used in the ECA&D non-blended\n",
      "\t       dataset\n",
      "\t   M = World Meteorological Organization ID (last five\n",
      "\t       characters of the GHCN-Daily ID)\n",
      "\t   N = Identification number used in data supplied by a \n",
      "\t       National Meteorological or Hydrological Center\n",
      "\t   R = U.S. Interagency Remote Automatic Weather Station (RAWS)\n",
      "\t       identifier\n",
      "\t   S = U.S. Natural Resources Conservation Service SNOwpack\n",
      "\t       TELemtry (SNOTEL) station identifier\n",
      "           W = WBAN identification number (last five characters of the \n",
      "               GHCN-Daily ID)\n",
      "\n",
      "LATITUDE   is latitude of the station (in decimal degrees).\n",
      "\n",
      "LONGITUDE  is the longitude of the station (in decimal degrees).\n",
      "\n",
      "ELEVATION  is the elevation of the station (in meters, missing = -999.9).\n",
      "\n",
      "\n",
      "STATE      is the U.S. postal code for the state (for U.S. stations only).\n",
      "\n",
      "NAME       is the name of the station.\n",
      "\n",
      "GSN FLAG   is a flag that indicates whether the station is part of the GCOS\n",
      "           Surface Network (GSN). The flag is assigned by cross-referencing \n",
      "           the number in the WMOID field with the official list of GSN \n",
      "           stations. There are two possible values:\n",
      "\n",
      "           Blank = non-GSN station or WMO Station number not available\n",
      "           GSN   = GSN station \n",
      "\n",
      "HCN/      is a flag that indicates whether the station is part of the U.S.\n",
      "CRN FLAG  Historical Climatology Network (HCN) or U.S. Climate Refererence\n",
      "          Network (CRN).  There are three possible values:\n",
      "\n",
      "           Blank = Not a member of the U.S. Historical Climatology \n",
      "\t           or U.S. Climate Reference Networks\n",
      "           HCN   = U.S. Historical Climatology Network station\n",
      "\t   CRN   = U.S. Climate Reference Network or U.S. Regional Climate \n",
      "\t           Network Station\n",
      "\n",
      "WMO ID     is the World Meteorological Organization (WMO) number for the\n",
      "           station.  If the station has no WMO number (or one has not yet \n",
      "\t   been matched to this station), then the field is blank.  \n",
      "\n",
      "--------------------------------------------------------------------------------\n",
      "--------------------------------------------------------------------------------\n",
      "\n",
      "V. FORMAT OF \"ghcnd-countries.txt\"\n",
      "\n",
      "------------------------------\n",
      "Variable   Columns   Type\n",
      "------------------------------\n",
      "CODE          1-2    Character\n",
      "NAME         4-50    Character\n",
      "------------------------------\n",
      "\n",
      "These variables have the following definitions:\n",
      "\n",
      "CODE       is the FIPS country code of the country where the station is \n",
      "           located (from FIPS Publication 10-4 at \n",
      "           www.cia.gov/cia/publications/factbook/appendix/appendix-d.html).\n",
      "\n",
      "NAME       is the name of the country.\n",
      "\n",
      "--------------------------------------------------------------------------------\n",
      "--------------------------------------------------------------------------------\n",
      "\n",
      "VI. FORMAT OF \"ghcnd-states.txt\"\n",
      "\n",
      "------------------------------\n",
      "Variable   Columns   Type\n",
      "------------------------------\n",
      "CODE          1-2    Character\n",
      "NAME         4-50    Character\n",
      "------------------------------\n",
      "\n",
      "These variables have the following definitions:\n",
      "\n",
      "CODE       is the POSTAL code of the U.S. state/territory or Canadian \n",
      "           province where the station is located \n",
      "\n",
      "NAME       is the name of the state, territory or province.\n",
      "\n",
      "--------------------------------------------------------------------------------\n",
      "--------------------------------------------------------------------------------\n",
      "\n",
      "VII. FORMAT OF \"ghcnd-inventory.txt\"\n",
      "\n",
      "------------------------------\n",
      "Variable   Columns   Type\n",
      "------------------------------\n",
      "ID            1-11   Character\n",
      "LATITUDE     13-20   Real\n",
      "LONGITUDE    22-30   Real\n",
      "ELEMENT      32-35   Character\n",
      "FIRSTYEAR    37-40   Integer\n",
      "LASTYEAR     42-45   Integer\n",
      "------------------------------\n",
      "\n",
      "These variables have the following definitions:\n",
      "\n",
      "ID         is the station identification code.  Please see \"ghcnd-stations.txt\"\n",
      "           for a complete list of stations and their metadata.\n",
      "\n",
      "LATITUDE   is the latitude of the station (in decimal degrees).\n",
      "\n",
      "LONGITUDE  is the longitude of the station (in decimal degrees).\n",
      "\n",
      "ELEMENT    is the element type.  See section III for a definition of elements.\n",
      "\n",
      "FIRSTYEAR  is the first year of unflagged data for the given element.\n",
      "\n",
      "LASTYEAR   is the last year of unflagged data for the given element.\n",
      "\n",
      "--------------------------------------------------------------------------------\n",
      "--------------------------------------------------------------------------------\n",
      "VIII. FORMAT OF \"mingle-list.txt\"\n",
      "\n",
      "--------------------------------------------------------------------------------\n",
      "Variable                                  Column(s)   Type\n",
      "--------------------------------------------------------------------------------\n",
      "GHCN-Daily Identifier (ID)                      1-11       Character\n",
      "No of sources assoc. with the station (N)       13-14      Integer\n",
      "Source Code of lowest ranking source            16         Character\n",
      "Source Idenfier of lowest ranking source        18-28      Character\n",
      "Source Code of next lowest ranking source       30         Character\n",
      "Source Identifier of next lowest ranking source 32-42\n",
      ".\n",
      ".\n",
      ".\n",
      "Up to Nth (highest ranking) source code and source identifier'\n",
      "[See section III for a definition of source codes]\n",
      "\n",
      "IX.  REFERENCES\n",
      "\n",
      "The journal article describing GHCN-Daily is:\n",
      "Menne, M.J., I. Durre, R.S. Vose, B.E. Gleason, and T.G. Houston, 2012:  An overview \n",
      "of the Global Historical Climatology Network-Daily Database.  Journal of Atmospheric \n",
      "and Oceanic Technology, 29, 897-910, doi:10.1175/JTECH-D-11-00103.1.\n",
      "\n",
      "To acknowledge the specific version of the dataset used, please cite:\n",
      "Menne, M.J., I. Durre, B. Korzeniewski, S. McNeal, K. Thomas, X. Yin, S. Anthony, R. Ray, \n",
      "R.S. Vose, B.E.Gleason, and T.G. Houston, 2012: Global Historical Climatology Network - \n",
      "Daily (GHCN-Daily), Version 3. [indicate subset used following decimal, \n",
      "e.g. Version 3.12]. \n",
      "NOAA National Climatic Data Center. http://doi.org/10.7289/V5D21VHZ [access date].\n",
      "\n",
      "Klein Tank, A.M.G. and Coauthors, 2002. Daily dataset of 20th-century surface\n",
      "air temperature and precipitation series for the European Climate Assessment.\n",
      "Int. J. of Climatol., 22, 1441-1453.\n",
      "Data and metadata available at http://eca.knmi.nl\n",
      "\n",
      "\n",
      "\n",
      "For additional information, please send an e-mail to ncdc.ghcnd@noaa.gov.\n",
      "\n"
     ]
    }
   ],
   "source": [
    "import requests\n",
    "\n",
    "r = requests.get(\"https://www1.ncdc.noaa.gov/pub/data/ghcn/daily/readme.txt\")\n",
    "readme = r.text\n",
    "print (readme)"
   ]
  },
  {
   "cell_type": "code",
   "execution_count": 2,
   "metadata": {},
   "outputs": [
    {
     "name": "stdout",
     "output_type": "stream",
     "text": [
      "ACW00011604  17.1167  -61.7833 TMAX 1949 1949\n",
      "ACW00011604  17.1167  -61.7833 TMIN 1949 1949\n",
      "ACW00011604  17.1167  -61.7833 PRCP 1949 1949\n"
     ]
    }
   ],
   "source": [
    "i = requests.get(\"https://www1.ncdc.noaa.gov/pub/data/ghcn/daily/ghcnd-inventory.txt\")\n",
    "inventory_txt = i.text\n",
    "print(inventory_txt[:137])"
   ]
  },
  {
   "cell_type": "code",
   "execution_count": 3,
   "metadata": {},
   "outputs": [
    {
     "name": "stdout",
     "output_type": "stream",
     "text": [
      "ACW00011604  17.1167  -61.7833   10.1    ST JOHNS COOLIDGE FLD                       \n",
      "ACW00011647  17.1333  -61.7833   19.2    ST JOHNS                                    \n",
      "AE000041196  25.3330   55.51\n"
     ]
    }
   ],
   "source": [
    "s = requests.get(\"https://www1.ncdc.noaa.gov/pub/data/ghcn/daily/ghcnd-stations.txt\")\n",
    "stations_txt = s.text\n",
    "print(stations_txt[:200])"
   ]
  },
  {
   "cell_type": "code",
   "execution_count": 4,
   "metadata": {},
   "outputs": [],
   "source": [
    "with open(\"inventory.txt\", \"w\") as inventory_file:\n",
    "    inventory_file.write(inventory_txt)"
   ]
  },
  {
   "cell_type": "code",
   "execution_count": 5,
   "metadata": {},
   "outputs": [],
   "source": [
    "with open(\"stations.txt\", \"w\",  encoding = 'utf-8') as stations_file:\n",
    "    stations_file.write(stations_txt)"
   ]
  },
  {
   "cell_type": "code",
   "execution_count": 6,
   "metadata": {
    "scrolled": true
   },
   "outputs": [
    {
     "name": "stdout",
     "output_type": "stream",
     "text": [
      "Inventory(station='RSM00036020', latitude=52.5, longtitude=80.2, element='TMAX', start=1948, end=2018)\n",
      "Inventory(station='RSM00036020', latitude=52.5, longtitude=80.2, element='TMIN', start=1948, end=2018)\n",
      "Inventory(station='RSM00036020', latitude=52.5, longtitude=80.2, element='PRCP', start=1936, end=2018)\n",
      "Inventory(station='RSM00036020', latitude=52.5, longtitude=80.2, element='SNWD', start=1973, end=2018)\n",
      "Inventory(station='RSM00036020', latitude=52.5, longtitude=80.2, element='TAVG', start=1948, end=2018)\n"
     ]
    }
   ],
   "source": [
    "from collections import namedtuple\n",
    "\n",
    "Inventory = namedtuple(\"Inventory\", ['station', 'latitude', 'longtitude', 'element', 'start', 'end'])\n",
    "\n",
    "inventory = [Inventory(x[0:11], float(x[12:20]), float(x[21:30]), x[31:35], int(x[36:40]), int(x[41:45])) \n",
    "             for x in inventory_txt.split(\"\\n\") if x.startswith('RSM00036')]\n",
    "for line in inventory[:5]:\n",
    "    print (line)"
   ]
  },
  {
   "cell_type": "code",
   "execution_count": 7,
   "metadata": {
    "scrolled": true
   },
   "outputs": [
    {
     "data": {
      "text/plain": [
       "[Inventory(station='RSM00036034', latitude=51.5, longtitude=81.2167, element='TMAX', start=1936, end=2020),\n",
       " Inventory(station='RSM00036034', latitude=51.5, longtitude=81.2167, element='TMIN', start=1936, end=2020)]"
      ]
     },
     "execution_count": 7,
     "metadata": {},
     "output_type": "execute_result"
    }
   ],
   "source": [
    "inventory_temps = [x for x in inventory if x.element in ['TMIN', 'TMAX'] and x.end >= 2016 and x.start < 1945]\n",
    "inventory_temps[:2]"
   ]
  },
  {
   "cell_type": "code",
   "execution_count": 8,
   "metadata": {},
   "outputs": [
    {
     "data": {
      "text/plain": [
       "[Inventory(station='RSM00036096', latitude=51.72, longtitude=94.5, element='TMAX', start=1943, end=2020),\n",
       " Inventory(station='RSM00036096', latitude=51.72, longtitude=94.5, element='TMIN', start=1943, end=2020)]"
      ]
     },
     "execution_count": 8,
     "metadata": {},
     "output_type": "execute_result"
    }
   ],
   "source": [
    "#Kyzel's coordinates\n",
    "latitude, longtitude = 51.73, 94.52\n",
    "inventory_temps.sort(key=lambda x: abs(latitude - x.latitude) + abs(longtitude - x.longtitude))\n",
    "inventory_temps[:2]"
   ]
  },
  {
   "cell_type": "code",
   "execution_count": 9,
   "metadata": {},
   "outputs": [
    {
     "name": "stdout",
     "output_type": "stream",
     "text": [
      "Station(station_id='RSM00036096', latitude=51.72, longtitude=94.5, elevation=626.0, state='', name='KYZYL', start=1943, end=2020)\n"
     ]
    }
   ],
   "source": [
    "#Перебор станций\n",
    "station_id = 'RSM00036096'\n",
    "Station = namedtuple('Station', ['station_id', 'latitude', 'longtitude', 'elevation', 'state', 'name', 'start', 'end'])\n",
    "stations = [(x[0:11], float(x[12:20]), float(x[21:30]), float(x[31:37]), x[38:40].strip(), x[41:71].strip())\n",
    "            for x in stations_txt.split(\"\\n\") if x.startswith(station_id)]\n",
    "# print(stations)\n",
    "# print(len(stations), type(stations))\n",
    "\n",
    "station = Station(*stations[0] + (inventory_temps[0].start, inventory_temps[0].end))\n",
    "print(station)"
   ]
  },
  {
   "cell_type": "code",
   "execution_count": 22,
   "metadata": {},
   "outputs": [
    {
     "name": "stdout",
     "output_type": "stream",
     "text": [
      "RSM00036096194310TMAX  202  r  188  r  168  r  150  r   82  r   84  r  115  r  166  r  126  r  159  r  190  r  164  r  117  r    3  r    5  r   28  r   48  r   22  r   53  r   69  r   25  r   10  r  -10  r  -50  r  -45  r  -39  r  -25  r   22  r  -38  r    5  r  -51  r\n",
      "RSM00036096194310TMIN   15  r   12  r   84  r   13  r   30  r  -41  r    9  r  -16  r   28  r   42  r  -17  r  -17  r   -4  r  -77  r  -54  r  -96  r -103  r  -44  r  -69  r  -59  r  -95  r  -55  r  -89  r -142  r -161  r -152  r -103  r -104  r -108  r -106  r -160  r\n",
      "\n"
     ]
    }
   ],
   "source": [
    "#Получение ежедненвых данных для станции\n",
    "r = requests.get('https://www1.ncdc.noaa.gov/pub/data/ghcn/daily/all/{}.dly'.format(station.station_id))\n",
    "weather = r.text\n",
    "with open('weather_{}.txt'.format(station), 'w') as weather_file:\n",
    "    weather_file.write(weather)\n",
    "print(weather[:540])"
   ]
  },
  {
   "cell_type": "code",
   "execution_count": 19,
   "metadata": {},
   "outputs": [],
   "source": [
    "def parse_line(line):\n",
    "    if not line:\n",
    "        return None\n",
    "    record, temperature_string = (line[:11], int(line[11:15]), int(line[15:17]), line[17:21]), line[21:]\n",
    "    if len(temperature_string) < 248:\n",
    "        raise ValueError(\"String not long enough {}, {}\".format(temperature_string, len(line)))\n",
    "    values = [float(temperature_string[i:i +5])/10 for i in range(0, 248, 8) if not temperature_string[i:i + 5].startswith(\"-9999\")]\n",
    "    count = len(values)\n",
    "    tmax = round(max(values), 1)\n",
    "    tmin = round(min(values), 1)\n",
    "    mean = round(sum(values)/count, 1)\n",
    "    \n",
    "    return record + (tmax, tmin, mean, count)"
   ]
  },
  {
   "cell_type": "code",
   "execution_count": 23,
   "metadata": {},
   "outputs": [
    {
     "data": {
      "text/plain": [
       "('RSM00036096', 1943, 10, 'TMAX', 20.2, -5.1, 6.3, 31)"
      ]
     },
     "execution_count": 23,
     "metadata": {},
     "output_type": "execute_result"
    }
   ],
   "source": [
    "parse_line(weather[:270])"
   ]
  },
  {
   "cell_type": "code",
   "execution_count": 24,
   "metadata": {},
   "outputs": [
    {
     "name": "stdout",
     "output_type": "stream",
     "text": [
      "USC00110338189301TMAX  -11  6  -44  6 -139  6  -83  6 -100  6  -83  6  -72  6  -83  6  -33  6 -178  6 -150  6 -128  6 -172  6 -200  6 -189  6 -150  6 -106  6  -61  6  -94  6  -33  6  -33  6  -33  6  -33  6    6  6  -33  6  -78  6  -33  6   44  6  -89 I6  -22  6    6  6\n",
      "USC00110338189301TMIN  -50  6 -139  6 -250  6 -144  6 -178  6 -228  6 -144  6 -222  6 -178  6 -250  6 -200  6 -206  6 -267  6 -272  6 -294  6 -294  6 -311  6 -200  6 -233  6 -178  6 -156  6  -89  6 -200  6 -194  6 -194  6 -178  6 -200  6  -33 I6 -156  6 -139  6 -167  6\n",
      "\n"
     ]
    }
   ],
   "source": [
    "#Получение ежедненвых данных для  из УЧЕБНИКА!!!!!!!!!!\n",
    "r = requests.get('https://www1.ncdc.noaa.gov/pub/data/ghcn/daily/all/{}.dly'.format('USC00110338'))\n",
    "weather1 = r.text\n",
    "with open('weather_{}.txt'.format('USC00110338'), 'w') as weather_file:\n",
    "    weather_file.write(weather1)\n",
    "print(weather1[:540])"
   ]
  },
  {
   "cell_type": "code",
   "execution_count": 25,
   "metadata": {},
   "outputs": [
    {
     "data": {
      "text/plain": [
       "('USC00110338', 1893, 1, 'TMAX', 4.4, -20.0, -7.8, 31)"
      ]
     },
     "execution_count": 25,
     "metadata": {},
     "output_type": "execute_result"
    }
   ],
   "source": [
    "parse_line(weather1[:270])"
   ]
  },
  {
   "cell_type": "code",
   "execution_count": 26,
   "metadata": {},
   "outputs": [
    {
     "data": {
      "text/plain": [
       "[('RSM00036096', 1943, 10, 'TMAX', 20.2, -5.1, 6.3, 31),\n",
       " ('RSM00036096', 1943, 10, 'TMIN', 8.4, -16.1, -5.3, 31),\n",
       " ('RSM00036096', 1943, 10, 'PRCP', 2.1, 0.0, 0.2, 31),\n",
       " ('RSM00036096', 1943, 10, 'TAVG', 12.3, -11.2, -0.3, 31),\n",
       " ('RSM00036096', 1943, 11, 'TMAX', -0.3, -19.8, -11.5, 30),\n",
       " ('RSM00036096', 1943, 11, 'TMIN', -7.2, -29.9, -19.6, 30),\n",
       " ('RSM00036096', 1943, 11, 'PRCP', 2.8, 0.0, 0.3, 30),\n",
       " ('RSM00036096', 1943, 11, 'TAVG', -5.3, -25.7, -15.6, 30),\n",
       " ('RSM00036096', 1943, 12, 'TMAX', -14.5, -33.4, -21.2, 31),\n",
       " ('RSM00036096', 1943, 12, 'TMIN', -22.7, -39.9, -30.2, 31)]"
      ]
     },
     "execution_count": 26,
     "metadata": {},
     "output_type": "execute_result"
    }
   ],
   "source": [
    "weather_data = [parse_line(x) for x in weather.split(\"\\n\") if x]\n",
    "len(weather_data)\n",
    "weather_data[:10]"
   ]
  },
  {
   "cell_type": "code",
   "execution_count": 27,
   "metadata": {},
   "outputs": [],
   "source": [
    "import sqlite3\n",
    "\n",
    "conn = sqlite3.connect(\"weather_data.db\")\n",
    "cursor = conn.cursor()\n",
    "\n",
    "create_weather = \"\"\"CREATE TABLE \"weather\" (\n",
    "    \"id\" text NOT NULL,\n",
    "    \"year\" integer NOT NULL,\n",
    "    \"month\" integer NOT NULL,\n",
    "    \"element\" text NOT NULL,\n",
    "    \"max\" real,\n",
    "    \"min\" real,\n",
    "    \"mean\" real,\n",
    "    \"count\" integer)\"\"\"\n",
    "cursor.execute(create_weather)\n",
    "conn.commit()"
   ]
  },
  {
   "cell_type": "code",
   "execution_count": 31,
   "metadata": {},
   "outputs": [],
   "source": [
    "for record in weather_data:\n",
    "    cursor.execute(\"\"\"INSERT into weather (id, year, month, element, max, min, mean, count) values (?,?,?,?,?,?,?,?)\"\"\", record)\n",
    "    conn.commit()"
   ]
  },
  {
   "cell_type": "code",
   "execution_count": 33,
   "metadata": {},
   "outputs": [
    {
     "data": {
      "text/plain": [
       "[('RSM00036096', 1943, 10, 'TMAX', 20.2, -5.1, 6.3, 31),\n",
       " ('RSM00036096', 1943, 11, 'TMAX', -0.3, -19.8, -11.5, 30),\n",
       " ('RSM00036096', 1943, 12, 'TMAX', -14.5, -33.4, -21.2, 31),\n",
       " ('RSM00036096', 1944, 2, 'TMAX', -13.6, -38.7, -23.7, 29),\n",
       " ('RSM00036096', 1944, 3, 'TMAX', 4.0, -16.0, -5.8, 31)]"
      ]
     },
     "execution_count": 33,
     "metadata": {},
     "output_type": "execute_result"
    }
   ],
   "source": [
    "cursor.execute(\"\"\"SELECT * from weather where element='TMAX' order by year, month\"\"\")\n",
    "tmax_data = cursor.fetchall()\n",
    "tmax_data[:5]"
   ]
  },
  {
   "cell_type": "code",
   "execution_count": 34,
   "metadata": {},
   "outputs": [
    {
     "data": {
      "text/plain": [
       "[('RSM00036096', 1943, 10, 'TMIN', 8.4, -16.1, -5.3, 31),\n",
       " ('RSM00036096', 1943, 11, 'TMIN', -7.2, -29.9, -19.6, 30),\n",
       " ('RSM00036096', 1943, 12, 'TMIN', -22.7, -39.9, -30.2, 31),\n",
       " ('RSM00036096', 1944, 1, 'TMIN', -34.7, -47.7, -41.2, 31),\n",
       " ('RSM00036096', 1944, 2, 'TMIN', -25.9, -46.2, -35.4, 29)]"
      ]
     },
     "execution_count": 34,
     "metadata": {},
     "output_type": "execute_result"
    }
   ],
   "source": [
    "tmax_data = [x for x in weather_data if x[3] == 'TMAX']\n",
    "tmin_data = [x for x in weather_data if x[3] == 'TMIN']\n",
    "tmin_data[:5]"
   ]
  },
  {
   "cell_type": "code",
   "execution_count": 36,
   "metadata": {},
   "outputs": [],
   "source": [
    "import pandas as pd\n",
    "%matplotlib inline\n",
    "\n",
    "tmax_df = pd.DataFrame(tmax_data, columns=['Station',  \"year\", \"month\", \"element\", \"max\", \"min\", \"mean\", \"Days\"])\n",
    "tmin_df = pd.DataFrame(tmin_data, columns=['Station',  \"year\", \"month\", \"element\", \"max\", \"min\", \"mean\", \"Days\"])"
   ]
  },
  {
   "cell_type": "code",
   "execution_count": 43,
   "metadata": {},
   "outputs": [
    {
     "data": {
      "text/plain": [
       "<matplotlib.axes._subplots.AxesSubplot at 0x2cec21be988>"
      ]
     },
     "execution_count": 43,
     "metadata": {},
     "output_type": "execute_result"
    },
    {
     "data": {
      "image/png": "[encoded data removed]",
      "text/plain": [
       "<Figure size 1152x288 with 1 Axes>"
      ]
     },
     "metadata": {
      "needs_background": "light"
     },
     "output_type": "display_data"
    },
    {
     "data": {
      "image/png": "[encoded data removed]",
      "text/plain": [
       "<Figure size 1152x576 with 1 Axes>"
      ]
     },
     "metadata": {
      "needs_background": "light"
     },
     "output_type": "display_data"
    }
   ],
   "source": [
    "tmin_df[['year', 'min', 'mean', 'max']].groupby('year').mean().plot(kind='line', figsize=(16,4))\n",
    "tmax_df[['year', 'min', 'mean', 'max']].groupby('year').mean().plot(kind='line', figsize=(16,8))"
   ]
  },
  {
   "cell_type": "code",
   "execution_count": null,
   "metadata": {},
   "outputs": [],
   "source": []
  }
 ],
 "metadata": {
  "kernelspec": {
   "display_name": "Python 3",
   "language": "python",
   "name": "python3"
  },
  "language_info": {
   "codemirror_mode": {
    "name": "ipython",
    "version": 3
   },
   "file_extension": ".py",
   "mimetype": "text/x-python",
   "name": "python",
   "nbconvert_exporter": "python",
   "pygments_lexer": "ipython3",
   "version": "3.7.7"
  }
 },
 "nbformat": 4,
 "nbformat_minor": 4
}
